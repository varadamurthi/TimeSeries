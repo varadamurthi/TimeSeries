{
 "cells": [
  {
   "cell_type": "code",
   "execution_count": 1,
   "id": "f410718f-07d7-4513-8f11-85ae3e9bd730",
   "metadata": {
    "collapsed": true,
    "jupyter": {
     "outputs_hidden": true
    },
    "tags": []
   },
   "outputs": [
    {
     "name": "stdout",
     "output_type": "stream",
     "text": [
      "Collecting pandas-datareader\n",
      "  Downloading pandas_datareader-0.10.0-py3-none-any.whl (109 kB)\n",
      "\u001b[K     |████████████████████████████████| 109 kB 3.5 MB/s eta 0:00:01\n",
      "\u001b[?25hRequirement already satisfied: pandas>=0.23 in /Users/varadamurthiacharya/opt/anaconda3/lib/python3.9/site-packages (from pandas-datareader) (1.4.0)\n",
      "Requirement already satisfied: requests>=2.19.0 in /Users/varadamurthiacharya/opt/anaconda3/lib/python3.9/site-packages (from pandas-datareader) (2.26.0)\n",
      "Collecting lxml\n",
      "  Downloading lxml-4.8.0-cp39-cp39-macosx_10_15_x86_64.whl (4.6 MB)\n",
      "\u001b[K     |████████████████████████████████| 4.6 MB 3.5 MB/s eta 0:00:01\n",
      "\u001b[?25hRequirement already satisfied: pytz>=2020.1 in /Users/varadamurthiacharya/opt/anaconda3/lib/python3.9/site-packages (from pandas>=0.23->pandas-datareader) (2021.3)\n",
      "Requirement already satisfied: python-dateutil>=2.8.1 in /Users/varadamurthiacharya/opt/anaconda3/lib/python3.9/site-packages (from pandas>=0.23->pandas-datareader) (2.8.2)\n",
      "Requirement already satisfied: numpy>=1.18.5 in /Users/varadamurthiacharya/opt/anaconda3/lib/python3.9/site-packages (from pandas>=0.23->pandas-datareader) (1.22.2)\n",
      "Requirement already satisfied: six>=1.5 in /Users/varadamurthiacharya/opt/anaconda3/lib/python3.9/site-packages (from python-dateutil>=2.8.1->pandas>=0.23->pandas-datareader) (1.16.0)\n",
      "Requirement already satisfied: charset-normalizer~=2.0.0 in /Users/varadamurthiacharya/opt/anaconda3/lib/python3.9/site-packages (from requests>=2.19.0->pandas-datareader) (2.0.4)\n",
      "Requirement already satisfied: idna<4,>=2.5 in /Users/varadamurthiacharya/opt/anaconda3/lib/python3.9/site-packages (from requests>=2.19.0->pandas-datareader) (3.3)\n",
      "Requirement already satisfied: certifi>=2017.4.17 in /Users/varadamurthiacharya/opt/anaconda3/lib/python3.9/site-packages (from requests>=2.19.0->pandas-datareader) (2021.10.8)\n",
      "Requirement already satisfied: urllib3<1.27,>=1.21.1 in /Users/varadamurthiacharya/opt/anaconda3/lib/python3.9/site-packages (from requests>=2.19.0->pandas-datareader) (1.26.7)\n",
      "Installing collected packages: lxml, pandas-datareader\n",
      "Successfully installed lxml-4.8.0 pandas-datareader-0.10.0\n"
     ]
    }
   ],
   "source": [
    "#install pandas data reader\n",
    "\n",
    "!pip install pandas-datareader"
   ]
  },
  {
   "cell_type": "code",
   "execution_count": 7,
   "id": "197052bb-91e6-4a85-9110-00a18b3b566c",
   "metadata": {
    "collapsed": true,
    "jupyter": {
     "outputs_hidden": true
    },
    "tags": []
   },
   "outputs": [
    {
     "name": "stdout",
     "output_type": "stream",
     "text": [
      "Collecting matplotlib\n",
      "  Downloading matplotlib-3.5.1-cp39-cp39-macosx_10_9_x86_64.whl (7.3 MB)\n",
      "\u001b[K     |████████████████████████████████| 7.3 MB 6.3 MB/s eta 0:00:01\n",
      "\u001b[?25hRequirement already satisfied: pyparsing>=2.2.1 in /Users/varadamurthiacharya/opt/anaconda3/lib/python3.9/site-packages (from matplotlib) (3.0.4)\n",
      "Requirement already satisfied: python-dateutil>=2.7 in /Users/varadamurthiacharya/opt/anaconda3/lib/python3.9/site-packages (from matplotlib) (2.8.2)\n",
      "Requirement already satisfied: packaging>=20.0 in /Users/varadamurthiacharya/opt/anaconda3/lib/python3.9/site-packages (from matplotlib) (21.3)\n",
      "Requirement already satisfied: pillow>=6.2.0 in /Users/varadamurthiacharya/opt/anaconda3/lib/python3.9/site-packages (from matplotlib) (8.4.0)\n",
      "Collecting cycler>=0.10\n",
      "  Downloading cycler-0.11.0-py3-none-any.whl (6.4 kB)\n",
      "Collecting kiwisolver>=1.0.1\n",
      "  Downloading kiwisolver-1.3.2-cp39-cp39-macosx_10_9_x86_64.whl (61 kB)\n",
      "\u001b[K     |████████████████████████████████| 61 kB 601 kB/s eta 0:00:01\n",
      "\u001b[?25hCollecting fonttools>=4.22.0\n",
      "  Downloading fonttools-4.29.1-py3-none-any.whl (895 kB)\n",
      "\u001b[K     |████████████████████████████████| 895 kB 2.8 MB/s eta 0:00:01\n",
      "\u001b[?25hRequirement already satisfied: numpy>=1.17 in /Users/varadamurthiacharya/opt/anaconda3/lib/python3.9/site-packages (from matplotlib) (1.22.2)\n",
      "Requirement already satisfied: six>=1.5 in /Users/varadamurthiacharya/opt/anaconda3/lib/python3.9/site-packages (from python-dateutil>=2.7->matplotlib) (1.16.0)\n",
      "Installing collected packages: kiwisolver, fonttools, cycler, matplotlib\n",
      "Successfully installed cycler-0.11.0 fonttools-4.29.1 kiwisolver-1.3.2 matplotlib-3.5.1\n"
     ]
    }
   ],
   "source": [
    "! pip install matplotlib"
   ]
  },
  {
   "cell_type": "code",
   "execution_count": 8,
   "id": "ef7722a9-34e3-4fd4-ae2d-0fd99d35ad99",
   "metadata": {},
   "outputs": [],
   "source": [
    "import pandas_datareader as pdr\n",
    "import pandas as pd\n",
    "from datetime import datetime\n",
    "import matplotlib.pyplot as plt"
   ]
  },
  {
   "cell_type": "code",
   "execution_count": 3,
   "id": "f474c61d-cb94-45f8-baaf-20fb2412642a",
   "metadata": {
    "tags": []
   },
   "outputs": [],
   "source": [
    "df_tesla = pdr.get_data_yahoo('TSLA')"
   ]
  },
  {
   "cell_type": "code",
   "execution_count": 13,
   "id": "cd7eb168-5b78-416f-b297-cf526568adfa",
   "metadata": {
    "tags": []
   },
   "outputs": [
    {
     "data": {
      "text/html": [
       "<div>\n",
       "<style scoped>\n",
       "    .dataframe tbody tr th:only-of-type {\n",
       "        vertical-align: middle;\n",
       "    }\n",
       "\n",
       "    .dataframe tbody tr th {\n",
       "        vertical-align: top;\n",
       "    }\n",
       "\n",
       "    .dataframe thead th {\n",
       "        text-align: right;\n",
       "    }\n",
       "</style>\n",
       "<table border=\"1\" class=\"dataframe\">\n",
       "  <thead>\n",
       "    <tr style=\"text-align: right;\">\n",
       "      <th></th>\n",
       "      <th>High</th>\n",
       "      <th>Low</th>\n",
       "      <th>Open</th>\n",
       "      <th>Close</th>\n",
       "      <th>Volume</th>\n",
       "      <th>Adj Close</th>\n",
       "    </tr>\n",
       "    <tr>\n",
       "      <th>Date</th>\n",
       "      <th></th>\n",
       "      <th></th>\n",
       "      <th></th>\n",
       "      <th></th>\n",
       "      <th></th>\n",
       "      <th></th>\n",
       "    </tr>\n",
       "  </thead>\n",
       "  <tbody>\n",
       "    <tr>\n",
       "      <th>2022-02-24</th>\n",
       "      <td>802.479980</td>\n",
       "      <td>700.000000</td>\n",
       "      <td>700.390015</td>\n",
       "      <td>800.770020</td>\n",
       "      <td>44876700.0</td>\n",
       "      <td>800.770020</td>\n",
       "    </tr>\n",
       "    <tr>\n",
       "      <th>2022-02-25</th>\n",
       "      <td>819.460815</td>\n",
       "      <td>782.400513</td>\n",
       "      <td>809.229980</td>\n",
       "      <td>813.400024</td>\n",
       "      <td>14126965.0</td>\n",
       "      <td>813.400024</td>\n",
       "    </tr>\n",
       "  </tbody>\n",
       "</table>\n",
       "</div>"
      ],
      "text/plain": [
       "                  High         Low        Open       Close      Volume  \\\n",
       "Date                                                                     \n",
       "2022-02-24  802.479980  700.000000  700.390015  800.770020  44876700.0   \n",
       "2022-02-25  819.460815  782.400513  809.229980  813.400024  14126965.0   \n",
       "\n",
       "             Adj Close  \n",
       "Date                    \n",
       "2022-02-24  800.770020  \n",
       "2022-02-25  813.400024  "
      ]
     },
     "execution_count": 13,
     "metadata": {},
     "output_type": "execute_result"
    }
   ],
   "source": [
    "df_tesla.tail(2)"
   ]
  },
  {
   "cell_type": "code",
   "execution_count": 12,
   "id": "d99e92ad-18a5-42f6-ac00-f400d67c4cf4",
   "metadata": {},
   "outputs": [
    {
     "data": {
      "text/plain": [
       "<AxesSubplot:xlabel='Date'>"
      ]
     },
     "execution_count": 12,
     "metadata": {},
     "output_type": "execute_result"
    },
    {
     "data": {
      "image/png": "[encoded data removed]",
      "text/plain": [
       "<Figure size 864x288 with 1 Axes>"
      ]
     },
     "metadata": {
      "needs_background": "light"
     },
     "output_type": "display_data"
    }
   ],
   "source": [
    "df_tesla['High'].plot(figsize=(12,4))"
   ]
  },
  {
   "cell_type": "code",
   "execution_count": 16,
   "id": "ae5810b3-3537-4653-b77b-4c36ef97010a",
   "metadata": {},
   "outputs": [
    {
     "data": {
      "text/plain": [
       "<AxesSubplot:xlabel='Date'>"
      ]
     },
     "execution_count": 16,
     "metadata": {},
     "output_type": "execute_result"
    },
    {
     "data": {
      "image/png": "[encoded data removed]",
      "text/plain": [
       "<Figure size 864x288 with 1 Axes>"
      ]
     },
     "metadata": {
      "needs_background": "light"
     },
     "output_type": "display_data"
    }
   ],
   "source": [
    "## xlimit and ylimit\n",
    "\n",
    "df_tesla['High'].plot(xlim=['2020-01-01','2021-09-01'],ylim=[0,900],figsize=(12,4))"
   ]
  },
  {
   "cell_type": "code",
   "execution_count": 23,
   "id": "45b3e7a1-ea6e-459e-b010-7b05d650c039",
   "metadata": {},
   "outputs": [
    {
     "data": {
      "text/plain": [
       "<AxesSubplot:xlabel='Date'>"
      ]
     },
     "execution_count": 23,
     "metadata": {},
     "output_type": "execute_result"
    },
    {
     "data": {
      "image/png": "[encoded data removed]",
      "text/plain": [
       "<Figure size 864x288 with 1 Axes>"
      ]
     },
     "metadata": {
      "needs_background": "light"
     },
     "output_type": "display_data"
    }
   ],
   "source": [
    "## xlimit and ylimit wit color\n",
    "\n",
    "df_tesla['High'].plot(c='green',ls='--',xlim=['2020-01-01','2021-09-01'],ylim=[0,900],figsize=(12,4))"
   ]
  },
  {
   "cell_type": "code",
   "execution_count": 41,
   "id": "47c5400c-e53a-496f-85b1-2d72e419b0d6",
   "metadata": {},
   "outputs": [
    {
     "data": {
      "text/plain": [
       "DatetimeIndex(['2017-02-27', '2017-02-28', '2017-03-01', '2017-03-02',\n",
       "               '2017-03-03', '2017-03-06', '2017-03-07', '2017-03-08',\n",
       "               '2017-03-09', '2017-03-10',\n",
       "               ...\n",
       "               '2022-02-11', '2022-02-14', '2022-02-15', '2022-02-16',\n",
       "               '2022-02-17', '2022-02-18', '2022-02-22', '2022-02-23',\n",
       "               '2022-02-24', '2022-02-25'],\n",
       "              dtype='datetime64[ns]', name='Date', length=1260, freq=None)"
      ]
     },
     "execution_count": 41,
     "metadata": {},
     "output_type": "execute_result"
    }
   ],
   "source": [
    "df_tesla.index"
   ]
  },
  {
   "cell_type": "code",
   "execution_count": 50,
   "id": "c969bfe8-4bb2-4f31-8aad-166c3467ff97",
   "metadata": {},
   "outputs": [],
   "source": [
    "index = df_tesla.loc['2020-01-01':'2021-09-01'].index\n",
    "\n",
    "share_open= df_tesla.loc['2020-01-01':'2021-09-01']['Open']"
   ]
  },
  {
   "cell_type": "code",
   "execution_count": 53,
   "id": "20840ef0-89f0-4aa7-940c-d182cbf7330c",
   "metadata": {},
   "outputs": [
    {
     "data": {
      "text/plain": [
       "[<matplotlib.lines.Line2D at 0x7ff7ac22af40>]"
      ]
     },
     "execution_count": 53,
     "metadata": {},
     "output_type": "execute_result"
    },
    {
     "data": {
      "image/png": "[encoded data removed]",
      "text/plain": [
       "<Figure size 432x288 with 1 Axes>"
      ]
     },
     "metadata": {
      "needs_background": "light"
     },
     "output_type": "display_data"
    }
   ],
   "source": [
    "figure,axis = plt.subplots()\n",
    "#Preventing overlapping of the dates in xaxis\n",
    "plt.tight_layout()\n",
    "figure.autofmt_xdate()\n",
    "axis.plot(index, share_open)"
   ]
  },
  {
   "cell_type": "code",
   "execution_count": 55,
   "id": "bd59404b-8ca5-41cc-a0af-2bf24eb25edc",
   "metadata": {},
   "outputs": [],
   "source": [
    "#Datetime index\n",
    "\n",
    "'''\n",
    "Change the index from 'Date' to normal index\n",
    "'''\n",
    "\n",
    "df_tesla = df_tesla.reset_index()"
   ]
  },
  {
   "cell_type": "code",
   "execution_count": 56,
   "id": "f3182958-a5cf-48c5-9848-bd92a7db1891",
   "metadata": {},
   "outputs": [
    {
     "name": "stdout",
     "output_type": "stream",
     "text": [
      "<class 'pandas.core.frame.DataFrame'>\n",
      "RangeIndex: 1260 entries, 0 to 1259\n",
      "Data columns (total 7 columns):\n",
      " #   Column     Non-Null Count  Dtype         \n",
      "---  ------     --------------  -----         \n",
      " 0   Date       1260 non-null   datetime64[ns]\n",
      " 1   High       1260 non-null   float64       \n",
      " 2   Low        1260 non-null   float64       \n",
      " 3   Open       1260 non-null   float64       \n",
      " 4   Close      1260 non-null   float64       \n",
      " 5   Volume     1260 non-null   float64       \n",
      " 6   Adj Close  1260 non-null   float64       \n",
      "dtypes: datetime64[ns](1), float64(6)\n",
      "memory usage: 69.0 KB\n"
     ]
    }
   ],
   "source": [
    "'''\n",
    "if the date field is in pandas object then convert to datetime:\n",
    "--------------------------------\n",
    "pd.to_datetime(df_tesla['Date'])\n",
    "--------------------------------\n",
    "'''\n",
    "\n",
    "df_tesla.info()"
   ]
  },
  {
   "cell_type": "code",
   "execution_count": 65,
   "id": "a8021e88-15c6-478a-9b32-3f3641280898",
   "metadata": {},
   "outputs": [
    {
     "data": {
      "text/plain": [
       "datetime.datetime(2022, 2, 25, 22, 59, 37, 968674)"
      ]
     },
     "execution_count": 65,
     "metadata": {},
     "output_type": "execute_result"
    }
   ],
   "source": [
    "datetime.now()"
   ]
  },
  {
   "cell_type": "code",
   "execution_count": 85,
   "id": "1df94cea-90f4-4bca-b97b-0c4902d9561e",
   "metadata": {},
   "outputs": [
    {
     "data": {
      "text/plain": [
       "'25-02-2022'"
      ]
     },
     "execution_count": 85,
     "metadata": {},
     "output_type": "execute_result"
    }
   ],
   "source": [
    "now = datetime.now()\n",
    "now.strftime(\"%d-%m-%Y\")"
   ]
  },
  {
   "cell_type": "markdown",
   "id": "fa244a10-3ae4-43c4-84bd-dc70111eb34b",
   "metadata": {},
   "source": [
    "# Time Resampling"
   ]
  },
  {
   "cell_type": "code",
   "execution_count": 87,
   "id": "1be75cea-3217-4cc0-8503-3f454fabf950",
   "metadata": {},
   "outputs": [
    {
     "data": {
      "text/html": [
       "<div>\n",
       "<style scoped>\n",
       "    .dataframe tbody tr th:only-of-type {\n",
       "        vertical-align: middle;\n",
       "    }\n",
       "\n",
       "    .dataframe tbody tr th {\n",
       "        vertical-align: top;\n",
       "    }\n",
       "\n",
       "    .dataframe thead th {\n",
       "        text-align: right;\n",
       "    }\n",
       "</style>\n",
       "<table border=\"1\" class=\"dataframe\">\n",
       "  <thead>\n",
       "    <tr style=\"text-align: right;\">\n",
       "      <th></th>\n",
       "      <th>Date</th>\n",
       "      <th>High</th>\n",
       "      <th>Low</th>\n",
       "      <th>Open</th>\n",
       "      <th>Close</th>\n",
       "      <th>Volume</th>\n",
       "      <th>Adj Close</th>\n",
       "    </tr>\n",
       "  </thead>\n",
       "  <tbody>\n",
       "    <tr>\n",
       "      <th>0</th>\n",
       "      <td>2017-02-27</td>\n",
       "      <td>49.672001</td>\n",
       "      <td>48.402000</td>\n",
       "      <td>49.633999</td>\n",
       "      <td>49.245998</td>\n",
       "      <td>57304000.0</td>\n",
       "      <td>49.245998</td>\n",
       "    </tr>\n",
       "    <tr>\n",
       "      <th>1</th>\n",
       "      <td>2017-02-28</td>\n",
       "      <td>50.200001</td>\n",
       "      <td>48.779999</td>\n",
       "      <td>48.838001</td>\n",
       "      <td>49.998001</td>\n",
       "      <td>30390500.0</td>\n",
       "      <td>49.998001</td>\n",
       "    </tr>\n",
       "    <tr>\n",
       "      <th>2</th>\n",
       "      <td>2017-03-01</td>\n",
       "      <td>50.970001</td>\n",
       "      <td>49.821999</td>\n",
       "      <td>50.835999</td>\n",
       "      <td>50.004002</td>\n",
       "      <td>24047500.0</td>\n",
       "      <td>50.004002</td>\n",
       "    </tr>\n",
       "    <tr>\n",
       "      <th>3</th>\n",
       "      <td>2017-03-02</td>\n",
       "      <td>50.655998</td>\n",
       "      <td>49.653999</td>\n",
       "      <td>49.942001</td>\n",
       "      <td>50.096001</td>\n",
       "      <td>16759000.0</td>\n",
       "      <td>50.096001</td>\n",
       "    </tr>\n",
       "    <tr>\n",
       "      <th>4</th>\n",
       "      <td>2017-03-03</td>\n",
       "      <td>50.380001</td>\n",
       "      <td>49.799999</td>\n",
       "      <td>50.147999</td>\n",
       "      <td>50.313999</td>\n",
       "      <td>14597000.0</td>\n",
       "      <td>50.313999</td>\n",
       "    </tr>\n",
       "  </tbody>\n",
       "</table>\n",
       "</div>"
      ],
      "text/plain": [
       "        Date       High        Low       Open      Close      Volume  \\\n",
       "0 2017-02-27  49.672001  48.402000  49.633999  49.245998  57304000.0   \n",
       "1 2017-02-28  50.200001  48.779999  48.838001  49.998001  30390500.0   \n",
       "2 2017-03-01  50.970001  49.821999  50.835999  50.004002  24047500.0   \n",
       "3 2017-03-02  50.655998  49.653999  49.942001  50.096001  16759000.0   \n",
       "4 2017-03-03  50.380001  49.799999  50.147999  50.313999  14597000.0   \n",
       "\n",
       "   Adj Close  \n",
       "0  49.245998  \n",
       "1  49.998001  \n",
       "2  50.004002  \n",
       "3  50.096001  \n",
       "4  50.313999  "
      ]
     },
     "execution_count": 87,
     "metadata": {},
     "output_type": "execute_result"
    }
   ],
   "source": [
    "df_tesla.head()"
   ]
  },
  {
   "cell_type": "code",
   "execution_count": 88,
   "id": "db7318c6-9530-46a7-8cb5-d118bfcc4125",
   "metadata": {},
   "outputs": [],
   "source": [
    "df_tesla.set_index('Date',inplace=True)"
   ]
  },
  {
   "cell_type": "code",
   "execution_count": 89,
   "id": "7242efda-f41c-4566-a121-8dedd6600878",
   "metadata": {},
   "outputs": [
    {
     "data": {
      "text/html": [
       "<div>\n",
       "<style scoped>\n",
       "    .dataframe tbody tr th:only-of-type {\n",
       "        vertical-align: middle;\n",
       "    }\n",
       "\n",
       "    .dataframe tbody tr th {\n",
       "        vertical-align: top;\n",
       "    }\n",
       "\n",
       "    .dataframe thead th {\n",
       "        text-align: right;\n",
       "    }\n",
       "</style>\n",
       "<table border=\"1\" class=\"dataframe\">\n",
       "  <thead>\n",
       "    <tr style=\"text-align: right;\">\n",
       "      <th></th>\n",
       "      <th>High</th>\n",
       "      <th>Low</th>\n",
       "      <th>Open</th>\n",
       "      <th>Close</th>\n",
       "      <th>Volume</th>\n",
       "      <th>Adj Close</th>\n",
       "    </tr>\n",
       "    <tr>\n",
       "      <th>Date</th>\n",
       "      <th></th>\n",
       "      <th></th>\n",
       "      <th></th>\n",
       "      <th></th>\n",
       "      <th></th>\n",
       "      <th></th>\n",
       "    </tr>\n",
       "  </thead>\n",
       "  <tbody>\n",
       "    <tr>\n",
       "      <th>2017-02-27</th>\n",
       "      <td>49.672001</td>\n",
       "      <td>48.402000</td>\n",
       "      <td>49.633999</td>\n",
       "      <td>49.245998</td>\n",
       "      <td>57304000.0</td>\n",
       "      <td>49.245998</td>\n",
       "    </tr>\n",
       "    <tr>\n",
       "      <th>2017-02-28</th>\n",
       "      <td>50.200001</td>\n",
       "      <td>48.779999</td>\n",
       "      <td>48.838001</td>\n",
       "      <td>49.998001</td>\n",
       "      <td>30390500.0</td>\n",
       "      <td>49.998001</td>\n",
       "    </tr>\n",
       "  </tbody>\n",
       "</table>\n",
       "</div>"
      ],
      "text/plain": [
       "                 High        Low       Open      Close      Volume  Adj Close\n",
       "Date                                                                         \n",
       "2017-02-27  49.672001  48.402000  49.633999  49.245998  57304000.0  49.245998\n",
       "2017-02-28  50.200001  48.779999  48.838001  49.998001  30390500.0  49.998001"
      ]
     },
     "execution_count": 89,
     "metadata": {},
     "output_type": "execute_result"
    }
   ],
   "source": [
    "df_tesla.head(2)"
   ]
  },
  {
   "cell_type": "code",
   "execution_count": 92,
   "id": "a5e041d1-c551-46f5-a071-241d328a4f07",
   "metadata": {},
   "outputs": [
    {
     "data": {
      "text/html": [
       "<div>\n",
       "<style scoped>\n",
       "    .dataframe tbody tr th:only-of-type {\n",
       "        vertical-align: middle;\n",
       "    }\n",
       "\n",
       "    .dataframe tbody tr th {\n",
       "        vertical-align: top;\n",
       "    }\n",
       "\n",
       "    .dataframe thead th {\n",
       "        text-align: right;\n",
       "    }\n",
       "</style>\n",
       "<table border=\"1\" class=\"dataframe\">\n",
       "  <thead>\n",
       "    <tr style=\"text-align: right;\">\n",
       "      <th></th>\n",
       "      <th>High</th>\n",
       "      <th>Low</th>\n",
       "      <th>Open</th>\n",
       "      <th>Close</th>\n",
       "      <th>Volume</th>\n",
       "      <th>Adj Close</th>\n",
       "    </tr>\n",
       "    <tr>\n",
       "      <th>Date</th>\n",
       "      <th></th>\n",
       "      <th></th>\n",
       "      <th></th>\n",
       "      <th></th>\n",
       "      <th></th>\n",
       "      <th></th>\n",
       "    </tr>\n",
       "  </thead>\n",
       "  <tbody>\n",
       "    <tr>\n",
       "      <th>2017-12-31</th>\n",
       "      <td>49.299999</td>\n",
       "      <td>48.402000</td>\n",
       "      <td>48.838001</td>\n",
       "      <td>48.737999</td>\n",
       "      <td>14597000.0</td>\n",
       "      <td>48.737999</td>\n",
       "    </tr>\n",
       "    <tr>\n",
       "      <th>2018-12-31</th>\n",
       "      <td>52.066002</td>\n",
       "      <td>48.917999</td>\n",
       "      <td>50.556000</td>\n",
       "      <td>50.112000</td>\n",
       "      <td>15403500.0</td>\n",
       "      <td>50.112000</td>\n",
       "    </tr>\n",
       "    <tr>\n",
       "      <th>2019-12-31</th>\n",
       "      <td>37.335999</td>\n",
       "      <td>35.397999</td>\n",
       "      <td>36.220001</td>\n",
       "      <td>35.793999</td>\n",
       "      <td>12328000.0</td>\n",
       "      <td>35.793999</td>\n",
       "    </tr>\n",
       "    <tr>\n",
       "      <th>2020-12-31</th>\n",
       "      <td>80.972000</td>\n",
       "      <td>70.101997</td>\n",
       "      <td>74.940002</td>\n",
       "      <td>72.244003</td>\n",
       "      <td>17357700.0</td>\n",
       "      <td>72.244003</td>\n",
       "    </tr>\n",
       "    <tr>\n",
       "      <th>2021-12-31</th>\n",
       "      <td>566.210022</td>\n",
       "      <td>539.489990</td>\n",
       "      <td>552.549988</td>\n",
       "      <td>563.000000</td>\n",
       "      <td>9800600.0</td>\n",
       "      <td>563.000000</td>\n",
       "    </tr>\n",
       "    <tr>\n",
       "      <th>2022-12-31</th>\n",
       "      <td>802.479980</td>\n",
       "      <td>700.000000</td>\n",
       "      <td>700.390015</td>\n",
       "      <td>764.039978</td>\n",
       "      <td>14126965.0</td>\n",
       "      <td>764.039978</td>\n",
       "    </tr>\n",
       "  </tbody>\n",
       "</table>\n",
       "</div>"
      ],
      "text/plain": [
       "                  High         Low        Open       Close      Volume  \\\n",
       "Date                                                                     \n",
       "2017-12-31   49.299999   48.402000   48.838001   48.737999  14597000.0   \n",
       "2018-12-31   52.066002   48.917999   50.556000   50.112000  15403500.0   \n",
       "2019-12-31   37.335999   35.397999   36.220001   35.793999  12328000.0   \n",
       "2020-12-31   80.972000   70.101997   74.940002   72.244003  17357700.0   \n",
       "2021-12-31  566.210022  539.489990  552.549988  563.000000   9800600.0   \n",
       "2022-12-31  802.479980  700.000000  700.390015  764.039978  14126965.0   \n",
       "\n",
       "             Adj Close  \n",
       "Date                    \n",
       "2017-12-31   48.737999  \n",
       "2018-12-31   50.112000  \n",
       "2019-12-31   35.793999  \n",
       "2020-12-31   72.244003  \n",
       "2021-12-31  563.000000  \n",
       "2022-12-31  764.039978  "
      ]
     },
     "execution_count": 92,
     "metadata": {},
     "output_type": "execute_result"
    }
   ],
   "source": [
    "# rule 'A' -> year end frequence\n",
    "\n",
    "df_tesla.resample(rule='A').min()"
   ]
  },
  {
   "cell_type": "code",
   "execution_count": 94,
   "id": "8325f684-e319-4429-94fb-3f9a7d899927",
   "metadata": {},
   "outputs": [
    {
     "data": {
      "text/plain": [
       "<AxesSubplot:xlabel='Date'>"
      ]
     },
     "execution_count": 94,
     "metadata": {},
     "output_type": "execute_result"
    },
    {
     "data": {
      "image/png": "[encoded data removed]",
      "text/plain": [
       "<Figure size 432x288 with 1 Axes>"
      ]
     },
     "metadata": {
      "needs_background": "light"
     },
     "output_type": "display_data"
    }
   ],
   "source": [
    "df_tesla.resample(rule='A').max()['Close'].plot()"
   ]
  },
  {
   "cell_type": "code",
   "execution_count": 95,
   "id": "8e4d0e09-0511-4b39-aef2-8027a2eb2f81",
   "metadata": {},
   "outputs": [
    {
     "data": {
      "text/html": [
       "<div>\n",
       "<style scoped>\n",
       "    .dataframe tbody tr th:only-of-type {\n",
       "        vertical-align: middle;\n",
       "    }\n",
       "\n",
       "    .dataframe tbody tr th {\n",
       "        vertical-align: top;\n",
       "    }\n",
       "\n",
       "    .dataframe thead th {\n",
       "        text-align: right;\n",
       "    }\n",
       "</style>\n",
       "<table border=\"1\" class=\"dataframe\">\n",
       "  <thead>\n",
       "    <tr style=\"text-align: right;\">\n",
       "      <th></th>\n",
       "      <th>High</th>\n",
       "      <th>Low</th>\n",
       "      <th>Open</th>\n",
       "      <th>Close</th>\n",
       "      <th>Volume</th>\n",
       "      <th>Adj Close</th>\n",
       "    </tr>\n",
       "    <tr>\n",
       "      <th>Date</th>\n",
       "      <th></th>\n",
       "      <th></th>\n",
       "      <th></th>\n",
       "      <th></th>\n",
       "      <th></th>\n",
       "      <th></th>\n",
       "    </tr>\n",
       "  </thead>\n",
       "  <tbody>\n",
       "    <tr>\n",
       "      <th>2017-01-01</th>\n",
       "      <td>56.400002</td>\n",
       "      <td>55.442001</td>\n",
       "      <td>55.745998</td>\n",
       "      <td>55.660000</td>\n",
       "      <td>57304000.0</td>\n",
       "      <td>55.660000</td>\n",
       "    </tr>\n",
       "    <tr>\n",
       "      <th>2017-04-01</th>\n",
       "      <td>77.398003</td>\n",
       "      <td>75.870003</td>\n",
       "      <td>77.337997</td>\n",
       "      <td>76.690002</td>\n",
       "      <td>86307000.0</td>\n",
       "      <td>76.690002</td>\n",
       "    </tr>\n",
       "    <tr>\n",
       "      <th>2017-07-01</th>\n",
       "      <td>77.921997</td>\n",
       "      <td>75.536003</td>\n",
       "      <td>76.050003</td>\n",
       "      <td>77.000000</td>\n",
       "      <td>96622500.0</td>\n",
       "      <td>77.000000</td>\n",
       "    </tr>\n",
       "    <tr>\n",
       "      <th>2017-10-01</th>\n",
       "      <td>72.599998</td>\n",
       "      <td>70.825996</td>\n",
       "      <td>71.396004</td>\n",
       "      <td>71.930000</td>\n",
       "      <td>98957000.0</td>\n",
       "      <td>71.930000</td>\n",
       "    </tr>\n",
       "    <tr>\n",
       "      <th>2018-01-01</th>\n",
       "      <td>72.099998</td>\n",
       "      <td>70.472000</td>\n",
       "      <td>72.000000</td>\n",
       "      <td>71.484001</td>\n",
       "      <td>105007000.0</td>\n",
       "      <td>71.484001</td>\n",
       "    </tr>\n",
       "    <tr>\n",
       "      <th>2018-04-01</th>\n",
       "      <td>74.746002</td>\n",
       "      <td>70.900002</td>\n",
       "      <td>73.031998</td>\n",
       "      <td>74.166000</td>\n",
       "      <td>111737000.0</td>\n",
       "      <td>74.166000</td>\n",
       "    </tr>\n",
       "    <tr>\n",
       "      <th>2018-07-01</th>\n",
       "      <td>77.491997</td>\n",
       "      <td>73.424004</td>\n",
       "      <td>73.818001</td>\n",
       "      <td>75.914001</td>\n",
       "      <td>168248500.0</td>\n",
       "      <td>75.914001</td>\n",
       "    </tr>\n",
       "    <tr>\n",
       "      <th>2018-10-01</th>\n",
       "      <td>75.898003</td>\n",
       "      <td>73.349998</td>\n",
       "      <td>75.000000</td>\n",
       "      <td>75.358002</td>\n",
       "      <td>137127500.0</td>\n",
       "      <td>75.358002</td>\n",
       "    </tr>\n",
       "    <tr>\n",
       "      <th>2019-01-01</th>\n",
       "      <td>70.400002</td>\n",
       "      <td>68.830002</td>\n",
       "      <td>69.241997</td>\n",
       "      <td>69.461998</td>\n",
       "      <td>120754000.0</td>\n",
       "      <td>69.461998</td>\n",
       "    </tr>\n",
       "    <tr>\n",
       "      <th>2019-04-01</th>\n",
       "      <td>59.234001</td>\n",
       "      <td>57.433998</td>\n",
       "      <td>57.660000</td>\n",
       "      <td>58.362000</td>\n",
       "      <td>132735500.0</td>\n",
       "      <td>58.362000</td>\n",
       "    </tr>\n",
       "    <tr>\n",
       "      <th>2019-07-01</th>\n",
       "      <td>53.214001</td>\n",
       "      <td>51.632000</td>\n",
       "      <td>51.834000</td>\n",
       "      <td>52.976002</td>\n",
       "      <td>112091500.0</td>\n",
       "      <td>52.976002</td>\n",
       "    </tr>\n",
       "    <tr>\n",
       "      <th>2019-10-01</th>\n",
       "      <td>87.061996</td>\n",
       "      <td>85.269997</td>\n",
       "      <td>87.000000</td>\n",
       "      <td>86.188004</td>\n",
       "      <td>150030500.0</td>\n",
       "      <td>86.188004</td>\n",
       "    </tr>\n",
       "    <tr>\n",
       "      <th>2020-01-01</th>\n",
       "      <td>193.798004</td>\n",
       "      <td>180.203995</td>\n",
       "      <td>184.699997</td>\n",
       "      <td>183.483994</td>\n",
       "      <td>304694000.0</td>\n",
       "      <td>183.483994</td>\n",
       "    </tr>\n",
       "    <tr>\n",
       "      <th>2020-04-01</th>\n",
       "      <td>217.537994</td>\n",
       "      <td>200.746002</td>\n",
       "      <td>202.556000</td>\n",
       "      <td>215.962006</td>\n",
       "      <td>162659000.0</td>\n",
       "      <td>215.962006</td>\n",
       "    </tr>\n",
       "    <tr>\n",
       "      <th>2020-07-01</th>\n",
       "      <td>502.489990</td>\n",
       "      <td>470.510010</td>\n",
       "      <td>502.140015</td>\n",
       "      <td>498.320007</td>\n",
       "      <td>194927000.0</td>\n",
       "      <td>498.320007</td>\n",
       "    </tr>\n",
       "    <tr>\n",
       "      <th>2020-10-01</th>\n",
       "      <td>718.719971</td>\n",
       "      <td>691.119995</td>\n",
       "      <td>699.989990</td>\n",
       "      <td>705.669983</td>\n",
       "      <td>222126200.0</td>\n",
       "      <td>705.669983</td>\n",
       "    </tr>\n",
       "    <tr>\n",
       "      <th>2021-01-01</th>\n",
       "      <td>900.400024</td>\n",
       "      <td>871.599976</td>\n",
       "      <td>891.380005</td>\n",
       "      <td>883.090027</td>\n",
       "      <td>89396500.0</td>\n",
       "      <td>883.090027</td>\n",
       "    </tr>\n",
       "    <tr>\n",
       "      <th>2021-04-01</th>\n",
       "      <td>780.789978</td>\n",
       "      <td>732.609985</td>\n",
       "      <td>770.700012</td>\n",
       "      <td>762.320007</td>\n",
       "      <td>49017400.0</td>\n",
       "      <td>762.320007</td>\n",
       "    </tr>\n",
       "    <tr>\n",
       "      <th>2021-07-01</th>\n",
       "      <td>799.000000</td>\n",
       "      <td>775.000000</td>\n",
       "      <td>787.200012</td>\n",
       "      <td>791.359985</td>\n",
       "      <td>33615800.0</td>\n",
       "      <td>791.359985</td>\n",
       "    </tr>\n",
       "    <tr>\n",
       "      <th>2021-10-01</th>\n",
       "      <td>1243.489990</td>\n",
       "      <td>1217.000000</td>\n",
       "      <td>1234.410034</td>\n",
       "      <td>1229.910034</td>\n",
       "      <td>62852100.0</td>\n",
       "      <td>1229.910034</td>\n",
       "    </tr>\n",
       "    <tr>\n",
       "      <th>2022-01-01</th>\n",
       "      <td>1208.000000</td>\n",
       "      <td>1136.040039</td>\n",
       "      <td>1189.550049</td>\n",
       "      <td>1199.780029</td>\n",
       "      <td>50521900.0</td>\n",
       "      <td>1199.780029</td>\n",
       "    </tr>\n",
       "  </tbody>\n",
       "</table>\n",
       "</div>"
      ],
      "text/plain": [
       "                   High          Low         Open        Close       Volume  \\\n",
       "Date                                                                          \n",
       "2017-01-01    56.400002    55.442001    55.745998    55.660000   57304000.0   \n",
       "2017-04-01    77.398003    75.870003    77.337997    76.690002   86307000.0   \n",
       "2017-07-01    77.921997    75.536003    76.050003    77.000000   96622500.0   \n",
       "2017-10-01    72.599998    70.825996    71.396004    71.930000   98957000.0   \n",
       "2018-01-01    72.099998    70.472000    72.000000    71.484001  105007000.0   \n",
       "2018-04-01    74.746002    70.900002    73.031998    74.166000  111737000.0   \n",
       "2018-07-01    77.491997    73.424004    73.818001    75.914001  168248500.0   \n",
       "2018-10-01    75.898003    73.349998    75.000000    75.358002  137127500.0   \n",
       "2019-01-01    70.400002    68.830002    69.241997    69.461998  120754000.0   \n",
       "2019-04-01    59.234001    57.433998    57.660000    58.362000  132735500.0   \n",
       "2019-07-01    53.214001    51.632000    51.834000    52.976002  112091500.0   \n",
       "2019-10-01    87.061996    85.269997    87.000000    86.188004  150030500.0   \n",
       "2020-01-01   193.798004   180.203995   184.699997   183.483994  304694000.0   \n",
       "2020-04-01   217.537994   200.746002   202.556000   215.962006  162659000.0   \n",
       "2020-07-01   502.489990   470.510010   502.140015   498.320007  194927000.0   \n",
       "2020-10-01   718.719971   691.119995   699.989990   705.669983  222126200.0   \n",
       "2021-01-01   900.400024   871.599976   891.380005   883.090027   89396500.0   \n",
       "2021-04-01   780.789978   732.609985   770.700012   762.320007   49017400.0   \n",
       "2021-07-01   799.000000   775.000000   787.200012   791.359985   33615800.0   \n",
       "2021-10-01  1243.489990  1217.000000  1234.410034  1229.910034   62852100.0   \n",
       "2022-01-01  1208.000000  1136.040039  1189.550049  1199.780029   50521900.0   \n",
       "\n",
       "              Adj Close  \n",
       "Date                     \n",
       "2017-01-01    55.660000  \n",
       "2017-04-01    76.690002  \n",
       "2017-07-01    77.000000  \n",
       "2017-10-01    71.930000  \n",
       "2018-01-01    71.484001  \n",
       "2018-04-01    74.166000  \n",
       "2018-07-01    75.914001  \n",
       "2018-10-01    75.358002  \n",
       "2019-01-01    69.461998  \n",
       "2019-04-01    58.362000  \n",
       "2019-07-01    52.976002  \n",
       "2019-10-01    86.188004  \n",
       "2020-01-01   183.483994  \n",
       "2020-04-01   215.962006  \n",
       "2020-07-01   498.320007  \n",
       "2020-10-01   705.669983  \n",
       "2021-01-01   883.090027  \n",
       "2021-04-01   762.320007  \n",
       "2021-07-01   791.359985  \n",
       "2021-10-01  1229.910034  \n",
       "2022-01-01  1199.780029  "
      ]
     },
     "execution_count": 95,
     "metadata": {},
     "output_type": "execute_result"
    }
   ],
   "source": [
    "df_tesla.resample(rule='QS').max()"
   ]
  },
  {
   "cell_type": "code",
   "execution_count": 96,
   "id": "dd77cb4b-d85d-4013-8825-a5d005ba533c",
   "metadata": {},
   "outputs": [
    {
     "data": {
      "text/plain": [
       "<AxesSubplot:xlabel='Date'>"
      ]
     },
     "execution_count": 96,
     "metadata": {},
     "output_type": "execute_result"
    },
    {
     "data": {
      "image/png": "[encoded data removed]",
      "text/plain": [
       "<Figure size 432x288 with 1 Axes>"
      ]
     },
     "metadata": {
      "needs_background": "light"
     },
     "output_type": "display_data"
    }
   ],
   "source": [
    "df_tesla.resample(rule='QS').max()['Close'].plot()"
   ]
  },
  {
   "cell_type": "code",
   "execution_count": 104,
   "id": "5d277cc5-d30c-484e-a6f9-66f81f900257",
   "metadata": {},
   "outputs": [
    {
     "data": {
      "image/png": "[encoded data removed]",
      "text/plain": [
       "<Figure size 1080x432 with 1 Axes>"
      ]
     },
     "metadata": {
      "needs_background": "light"
     },
     "output_type": "display_data"
    }
   ],
   "source": [
    "\n",
    "df_tesla.resample(rule='M').max()['Open'].plot(color='orange',kind='bar',figsize=(15,6))\n",
    "\n",
    "figure.autofmt_xdate()"
   ]
  },
  {
   "cell_type": "code",
   "execution_count": 112,
   "id": "c4f6decb-cfba-4d6b-b145-fa43b660d309",
   "metadata": {},
   "outputs": [
    {
     "data": {
      "text/plain": [
       "Date\n",
       "2017-02-27    49.672001\n",
       "2017-02-28    50.200001\n",
       "2017-03-01    50.970001\n",
       "2017-03-02    50.655998\n",
       "2017-03-03    50.380001\n",
       "2017-03-06    50.340000\n",
       "2017-03-07    50.778000\n",
       "2017-03-08    50.014000\n",
       "2017-03-09    49.731998\n",
       "2017-03-10    49.299999\n",
       "2017-03-13    49.369999\n",
       "2017-03-14    51.624001\n",
       "2017-03-15    52.200001\n",
       "2017-03-16    53.150002\n",
       "2017-03-17    53.066002\n",
       "2017-03-20    52.910000\n",
       "2017-03-21    52.959999\n",
       "2017-03-22    51.014000\n",
       "2017-03-23    51.534000\n",
       "2017-03-24    52.778000\n",
       "Name: High, dtype: float64"
      ]
     },
     "execution_count": 112,
     "metadata": {},
     "output_type": "execute_result"
    }
   ],
   "source": [
    "df_tesla['High'].head(20)"
   ]
  },
  {
   "cell_type": "code",
   "execution_count": 106,
   "id": "a747087f-8e01-4b9d-afe0-f9c2a1eee556",
   "metadata": {},
   "outputs": [
    {
     "data": {
      "text/plain": [
       "Rolling [window=10,center=False,axis=0,method=single]"
      ]
     },
     "execution_count": 106,
     "metadata": {},
     "output_type": "execute_result"
    }
   ],
   "source": [
    "df_tesla['High'].rolling(10)"
   ]
  },
  {
   "cell_type": "code",
   "execution_count": 110,
   "id": "a1c056c2-d1bb-483f-bd95-0d1a88b38986",
   "metadata": {},
   "outputs": [
    {
     "data": {
      "text/plain": [
       "Date\n",
       "2017-02-27          NaN\n",
       "2017-02-28          NaN\n",
       "2017-03-01          NaN\n",
       "2017-03-02          NaN\n",
       "2017-03-03    50.375600\n",
       "2017-03-06    50.509200\n",
       "2017-03-07    50.624800\n",
       "2017-03-08    50.433600\n",
       "2017-03-09    50.248800\n",
       "2017-03-10    50.032800\n",
       "2017-03-13    49.838799\n",
       "2017-03-14    50.007999\n",
       "2017-03-15    50.445200\n",
       "2017-03-16    51.128800\n",
       "2017-03-17    51.882001\n",
       "2017-03-20    52.590001\n",
       "2017-03-21    52.857201\n",
       "2017-03-22    52.620000\n",
       "2017-03-23    52.296800\n",
       "2017-03-24    52.239200\n",
       "Name: High, dtype: float64"
      ]
     },
     "execution_count": 110,
     "metadata": {},
     "output_type": "execute_result"
    }
   ],
   "source": [
    "df_tesla['High'].rolling(5).mean().head(20)"
   ]
  },
  {
   "cell_type": "code",
   "execution_count": 116,
   "id": "18f4e301-e980-45eb-b5e0-cedf34358512",
   "metadata": {},
   "outputs": [],
   "source": [
    "df_tesla['Open - 30 Days Rolling'] = df_tesla['Open'].rolling(30).mean()"
   ]
  },
  {
   "cell_type": "code",
   "execution_count": 117,
   "id": "b8e6636f-f4cb-48f2-893f-e7d2b1306778",
   "metadata": {},
   "outputs": [
    {
     "data": {
      "text/html": [
       "<div>\n",
       "<style scoped>\n",
       "    .dataframe tbody tr th:only-of-type {\n",
       "        vertical-align: middle;\n",
       "    }\n",
       "\n",
       "    .dataframe tbody tr th {\n",
       "        vertical-align: top;\n",
       "    }\n",
       "\n",
       "    .dataframe thead th {\n",
       "        text-align: right;\n",
       "    }\n",
       "</style>\n",
       "<table border=\"1\" class=\"dataframe\">\n",
       "  <thead>\n",
       "    <tr style=\"text-align: right;\">\n",
       "      <th></th>\n",
       "      <th>High</th>\n",
       "      <th>Low</th>\n",
       "      <th>Open</th>\n",
       "      <th>Close</th>\n",
       "      <th>Volume</th>\n",
       "      <th>Adj Close</th>\n",
       "      <th>Open - 30 Days Rolling</th>\n",
       "    </tr>\n",
       "    <tr>\n",
       "      <th>Date</th>\n",
       "      <th></th>\n",
       "      <th></th>\n",
       "      <th></th>\n",
       "      <th></th>\n",
       "      <th></th>\n",
       "      <th></th>\n",
       "      <th></th>\n",
       "    </tr>\n",
       "  </thead>\n",
       "  <tbody>\n",
       "    <tr>\n",
       "      <th>2017-02-27</th>\n",
       "      <td>49.672001</td>\n",
       "      <td>48.402000</td>\n",
       "      <td>49.633999</td>\n",
       "      <td>49.245998</td>\n",
       "      <td>57304000.0</td>\n",
       "      <td>49.245998</td>\n",
       "      <td>NaN</td>\n",
       "    </tr>\n",
       "    <tr>\n",
       "      <th>2017-02-28</th>\n",
       "      <td>50.200001</td>\n",
       "      <td>48.779999</td>\n",
       "      <td>48.838001</td>\n",
       "      <td>49.998001</td>\n",
       "      <td>30390500.0</td>\n",
       "      <td>49.998001</td>\n",
       "      <td>NaN</td>\n",
       "    </tr>\n",
       "    <tr>\n",
       "      <th>2017-03-01</th>\n",
       "      <td>50.970001</td>\n",
       "      <td>49.821999</td>\n",
       "      <td>50.835999</td>\n",
       "      <td>50.004002</td>\n",
       "      <td>24047500.0</td>\n",
       "      <td>50.004002</td>\n",
       "      <td>NaN</td>\n",
       "    </tr>\n",
       "    <tr>\n",
       "      <th>2017-03-02</th>\n",
       "      <td>50.655998</td>\n",
       "      <td>49.653999</td>\n",
       "      <td>49.942001</td>\n",
       "      <td>50.096001</td>\n",
       "      <td>16759000.0</td>\n",
       "      <td>50.096001</td>\n",
       "      <td>NaN</td>\n",
       "    </tr>\n",
       "    <tr>\n",
       "      <th>2017-03-03</th>\n",
       "      <td>50.380001</td>\n",
       "      <td>49.799999</td>\n",
       "      <td>50.147999</td>\n",
       "      <td>50.313999</td>\n",
       "      <td>14597000.0</td>\n",
       "      <td>50.313999</td>\n",
       "      <td>NaN</td>\n",
       "    </tr>\n",
       "  </tbody>\n",
       "</table>\n",
       "</div>"
      ],
      "text/plain": [
       "                 High        Low       Open      Close      Volume  Adj Close  \\\n",
       "Date                                                                            \n",
       "2017-02-27  49.672001  48.402000  49.633999  49.245998  57304000.0  49.245998   \n",
       "2017-02-28  50.200001  48.779999  48.838001  49.998001  30390500.0  49.998001   \n",
       "2017-03-01  50.970001  49.821999  50.835999  50.004002  24047500.0  50.004002   \n",
       "2017-03-02  50.655998  49.653999  49.942001  50.096001  16759000.0  50.096001   \n",
       "2017-03-03  50.380001  49.799999  50.147999  50.313999  14597000.0  50.313999   \n",
       "\n",
       "            Open - 30 Days Rolling  \n",
       "Date                                \n",
       "2017-02-27                     NaN  \n",
       "2017-02-28                     NaN  \n",
       "2017-03-01                     NaN  \n",
       "2017-03-02                     NaN  \n",
       "2017-03-03                     NaN  "
      ]
     },
     "execution_count": 117,
     "metadata": {},
     "output_type": "execute_result"
    }
   ],
   "source": [
    "df_tesla.head()"
   ]
  },
  {
   "cell_type": "code",
   "execution_count": 119,
   "id": "cadb253a-e5f2-4a5d-be9c-37946b99668a",
   "metadata": {},
   "outputs": [
    {
     "data": {
      "text/plain": [
       "<AxesSubplot:xlabel='Date'>"
      ]
     },
     "execution_count": 119,
     "metadata": {},
     "output_type": "execute_result"
    },
    {
     "data": {
      "image/png": "[encoded data removed]",
      "text/plain": [
       "<Figure size 864x360 with 1 Axes>"
      ]
     },
     "metadata": {
      "needs_background": "light"
     },
     "output_type": "display_data"
    }
   ],
   "source": [
    "df_tesla[['Open','Open - 30 Days Rolling']].plot(figsize=(12,5))"
   ]
  },
  {
   "cell_type": "code",
   "execution_count": null,
   "id": "7afdeb08-5135-4df9-b786-b5f2b94414ee",
   "metadata": {},
   "outputs": [],
   "source": []
  }
 ],
 "metadata": {
  "kernelspec": {
   "display_name": "Python 3 (ipykernel)",
   "language": "python",
   "name": "python3"
  },
  "language_info": {
   "codemirror_mode": {
    "name": "ipython",
    "version": 3
   },
   "file_extension": ".py",
   "mimetype": "text/x-python",
   "name": "python",
   "nbconvert_exporter": "python",
   "pygments_lexer": "ipython3",
   "version": "3.9.7"
  }
 },
 "nbformat": 4,
 "nbformat_minor": 5
}
